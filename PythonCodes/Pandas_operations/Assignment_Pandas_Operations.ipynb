{
  "nbformat": 4,
  "nbformat_minor": 0,
  "metadata": {
    "kernelspec": {
      "display_name": "Python 3",
      "language": "python",
      "name": "python3"
    },
    "language_info": {
      "codemirror_mode": {
        "name": "ipython",
        "version": 3
      },
      "file_extension": ".py",
      "mimetype": "text/x-python",
      "name": "python",
      "nbconvert_exporter": "python",
      "pygments_lexer": "ipython3",
      "version": "3.7.1"
    },
    "colab": {
      "provenance": []
    },
    "accelerator": "GPU",
    "gpuClass": "standard"
  },
  "cells": [
    {
      "cell_type": "markdown",
      "metadata": {
        "id": "WEPecVgEVrP_"
      },
      "source": [
        "## <u> Use only those concepts which have been taught till now </u>"
      ]
    },
    {
      "cell_type": "markdown",
      "metadata": {
        "id": "UCW8FaGk-pd0"
      },
      "source": [
        "# <b> Problem 1: Import Pandas and Numpy in the notebook </b>"
      ]
    },
    {
      "cell_type": "code",
      "metadata": {
        "id": "jI39LRd3-pd2"
      },
      "source": [
        "# Import statements\n",
        "\n",
        "import pandas as pd \n",
        "import numpy as np"
      ],
      "execution_count": 1,
      "outputs": []
    },
    {
      "cell_type": "markdown",
      "source": [
        "# New Section"
      ],
      "metadata": {
        "id": "NK9NTXAyxa5E"
      }
    },
    {
      "cell_type": "markdown",
      "metadata": {
        "id": "QlQXvEQN-pd9"
      },
      "source": [
        "# <b> Problem 2 : Load the automobile_data.csv kept in the shared folder"
      ]
    },
    {
      "cell_type": "code",
      "metadata": {
        "id": "3WUSC_18-peA",
        "outputId": "86223576-e749-45ba-e134-495b62d91411",
        "colab": {
          "base_uri": "https://localhost:8080/",
          "height": 299
        }
      },
      "source": [
        "# Mount your drive and read the csv file. Make sure you are using the correct file path\n",
        "\n",
        "# Uploading the csv file in google_colab and performing the operations \n",
        "\n",
        "df=pd.read_csv('automobile_data.csv')\n",
        "df.head(5)"
      ],
      "execution_count": 3,
      "outputs": [
        {
          "output_type": "execute_result",
          "data": {
            "text/plain": [
              "   symboling normalized-losses         make fuel-type aspiration num-of-doors  \\\n",
              "0          3                 ?  alfa-romero       gas        std          two   \n",
              "1          3                 ?  alfa-romero       gas        std          two   \n",
              "2          1                 ?  alfa-romero       gas        std          two   \n",
              "3          2               164         audi       gas        std         four   \n",
              "4          2               164         audi       gas        std         four   \n",
              "\n",
              "    body-style drive-wheels engine-location  wheel-base  ...  engine-size  \\\n",
              "0  convertible          rwd           front        88.6  ...          130   \n",
              "1  convertible          rwd           front        88.6  ...          130   \n",
              "2    hatchback          rwd           front        94.5  ...          152   \n",
              "3        sedan          fwd           front        99.8  ...          109   \n",
              "4        sedan          4wd           front        99.4  ...          136   \n",
              "\n",
              "   fuel-system  bore  stroke compression-ratio horsepower  peak-rpm city-mpg  \\\n",
              "0         mpfi  3.47    2.68               9.0        111      5000       21   \n",
              "1         mpfi  3.47    2.68               9.0        111      5000       21   \n",
              "2         mpfi  2.68    3.47               9.0        154      5000       19   \n",
              "3         mpfi  3.19     3.4              10.0        102      5500       24   \n",
              "4         mpfi  3.19     3.4               8.0        115      5500       18   \n",
              "\n",
              "  highway-mpg  price  \n",
              "0          27  13495  \n",
              "1          27  16500  \n",
              "2          26  16500  \n",
              "3          30  13950  \n",
              "4          22  17450  \n",
              "\n",
              "[5 rows x 26 columns]"
            ],
            "text/html": [
              "\n",
              "  <div id=\"df-0d67dac8-9975-4be4-b296-96446ea2585a\">\n",
              "    <div class=\"colab-df-container\">\n",
              "      <div>\n",
              "<style scoped>\n",
              "    .dataframe tbody tr th:only-of-type {\n",
              "        vertical-align: middle;\n",
              "    }\n",
              "\n",
              "    .dataframe tbody tr th {\n",
              "        vertical-align: top;\n",
              "    }\n",
              "\n",
              "    .dataframe thead th {\n",
              "        text-align: right;\n",
              "    }\n",
              "</style>\n",
              "<table border=\"1\" class=\"dataframe\">\n",
              "  <thead>\n",
              "    <tr style=\"text-align: right;\">\n",
              "      <th></th>\n",
              "      <th>symboling</th>\n",
              "      <th>normalized-losses</th>\n",
              "      <th>make</th>\n",
              "      <th>fuel-type</th>\n",
              "      <th>aspiration</th>\n",
              "      <th>num-of-doors</th>\n",
              "      <th>body-style</th>\n",
              "      <th>drive-wheels</th>\n",
              "      <th>engine-location</th>\n",
              "      <th>wheel-base</th>\n",
              "      <th>...</th>\n",
              "      <th>engine-size</th>\n",
              "      <th>fuel-system</th>\n",
              "      <th>bore</th>\n",
              "      <th>stroke</th>\n",
              "      <th>compression-ratio</th>\n",
              "      <th>horsepower</th>\n",
              "      <th>peak-rpm</th>\n",
              "      <th>city-mpg</th>\n",
              "      <th>highway-mpg</th>\n",
              "      <th>price</th>\n",
              "    </tr>\n",
              "  </thead>\n",
              "  <tbody>\n",
              "    <tr>\n",
              "      <th>0</th>\n",
              "      <td>3</td>\n",
              "      <td>?</td>\n",
              "      <td>alfa-romero</td>\n",
              "      <td>gas</td>\n",
              "      <td>std</td>\n",
              "      <td>two</td>\n",
              "      <td>convertible</td>\n",
              "      <td>rwd</td>\n",
              "      <td>front</td>\n",
              "      <td>88.6</td>\n",
              "      <td>...</td>\n",
              "      <td>130</td>\n",
              "      <td>mpfi</td>\n",
              "      <td>3.47</td>\n",
              "      <td>2.68</td>\n",
              "      <td>9.0</td>\n",
              "      <td>111</td>\n",
              "      <td>5000</td>\n",
              "      <td>21</td>\n",
              "      <td>27</td>\n",
              "      <td>13495</td>\n",
              "    </tr>\n",
              "    <tr>\n",
              "      <th>1</th>\n",
              "      <td>3</td>\n",
              "      <td>?</td>\n",
              "      <td>alfa-romero</td>\n",
              "      <td>gas</td>\n",
              "      <td>std</td>\n",
              "      <td>two</td>\n",
              "      <td>convertible</td>\n",
              "      <td>rwd</td>\n",
              "      <td>front</td>\n",
              "      <td>88.6</td>\n",
              "      <td>...</td>\n",
              "      <td>130</td>\n",
              "      <td>mpfi</td>\n",
              "      <td>3.47</td>\n",
              "      <td>2.68</td>\n",
              "      <td>9.0</td>\n",
              "      <td>111</td>\n",
              "      <td>5000</td>\n",
              "      <td>21</td>\n",
              "      <td>27</td>\n",
              "      <td>16500</td>\n",
              "    </tr>\n",
              "    <tr>\n",
              "      <th>2</th>\n",
              "      <td>1</td>\n",
              "      <td>?</td>\n",
              "      <td>alfa-romero</td>\n",
              "      <td>gas</td>\n",
              "      <td>std</td>\n",
              "      <td>two</td>\n",
              "      <td>hatchback</td>\n",
              "      <td>rwd</td>\n",
              "      <td>front</td>\n",
              "      <td>94.5</td>\n",
              "      <td>...</td>\n",
              "      <td>152</td>\n",
              "      <td>mpfi</td>\n",
              "      <td>2.68</td>\n",
              "      <td>3.47</td>\n",
              "      <td>9.0</td>\n",
              "      <td>154</td>\n",
              "      <td>5000</td>\n",
              "      <td>19</td>\n",
              "      <td>26</td>\n",
              "      <td>16500</td>\n",
              "    </tr>\n",
              "    <tr>\n",
              "      <th>3</th>\n",
              "      <td>2</td>\n",
              "      <td>164</td>\n",
              "      <td>audi</td>\n",
              "      <td>gas</td>\n",
              "      <td>std</td>\n",
              "      <td>four</td>\n",
              "      <td>sedan</td>\n",
              "      <td>fwd</td>\n",
              "      <td>front</td>\n",
              "      <td>99.8</td>\n",
              "      <td>...</td>\n",
              "      <td>109</td>\n",
              "      <td>mpfi</td>\n",
              "      <td>3.19</td>\n",
              "      <td>3.4</td>\n",
              "      <td>10.0</td>\n",
              "      <td>102</td>\n",
              "      <td>5500</td>\n",
              "      <td>24</td>\n",
              "      <td>30</td>\n",
              "      <td>13950</td>\n",
              "    </tr>\n",
              "    <tr>\n",
              "      <th>4</th>\n",
              "      <td>2</td>\n",
              "      <td>164</td>\n",
              "      <td>audi</td>\n",
              "      <td>gas</td>\n",
              "      <td>std</td>\n",
              "      <td>four</td>\n",
              "      <td>sedan</td>\n",
              "      <td>4wd</td>\n",
              "      <td>front</td>\n",
              "      <td>99.4</td>\n",
              "      <td>...</td>\n",
              "      <td>136</td>\n",
              "      <td>mpfi</td>\n",
              "      <td>3.19</td>\n",
              "      <td>3.4</td>\n",
              "      <td>8.0</td>\n",
              "      <td>115</td>\n",
              "      <td>5500</td>\n",
              "      <td>18</td>\n",
              "      <td>22</td>\n",
              "      <td>17450</td>\n",
              "    </tr>\n",
              "  </tbody>\n",
              "</table>\n",
              "<p>5 rows × 26 columns</p>\n",
              "</div>\n",
              "      <button class=\"colab-df-convert\" onclick=\"convertToInteractive('df-0d67dac8-9975-4be4-b296-96446ea2585a')\"\n",
              "              title=\"Convert this dataframe to an interactive table.\"\n",
              "              style=\"display:none;\">\n",
              "        \n",
              "  <svg xmlns=\"http://www.w3.org/2000/svg\" height=\"24px\"viewBox=\"0 0 24 24\"\n",
              "       width=\"24px\">\n",
              "    <path d=\"M0 0h24v24H0V0z\" fill=\"none\"/>\n",
              "    <path d=\"M18.56 5.44l.94 2.06.94-2.06 2.06-.94-2.06-.94-.94-2.06-.94 2.06-2.06.94zm-11 1L8.5 8.5l.94-2.06 2.06-.94-2.06-.94L8.5 2.5l-.94 2.06-2.06.94zm10 10l.94 2.06.94-2.06 2.06-.94-2.06-.94-.94-2.06-.94 2.06-2.06.94z\"/><path d=\"M17.41 7.96l-1.37-1.37c-.4-.4-.92-.59-1.43-.59-.52 0-1.04.2-1.43.59L10.3 9.45l-7.72 7.72c-.78.78-.78 2.05 0 2.83L4 21.41c.39.39.9.59 1.41.59.51 0 1.02-.2 1.41-.59l7.78-7.78 2.81-2.81c.8-.78.8-2.07 0-2.86zM5.41 20L4 18.59l7.72-7.72 1.47 1.35L5.41 20z\"/>\n",
              "  </svg>\n",
              "      </button>\n",
              "      \n",
              "  <style>\n",
              "    .colab-df-container {\n",
              "      display:flex;\n",
              "      flex-wrap:wrap;\n",
              "      gap: 12px;\n",
              "    }\n",
              "\n",
              "    .colab-df-convert {\n",
              "      background-color: #E8F0FE;\n",
              "      border: none;\n",
              "      border-radius: 50%;\n",
              "      cursor: pointer;\n",
              "      display: none;\n",
              "      fill: #1967D2;\n",
              "      height: 32px;\n",
              "      padding: 0 0 0 0;\n",
              "      width: 32px;\n",
              "    }\n",
              "\n",
              "    .colab-df-convert:hover {\n",
              "      background-color: #E2EBFA;\n",
              "      box-shadow: 0px 1px 2px rgba(60, 64, 67, 0.3), 0px 1px 3px 1px rgba(60, 64, 67, 0.15);\n",
              "      fill: #174EA6;\n",
              "    }\n",
              "\n",
              "    [theme=dark] .colab-df-convert {\n",
              "      background-color: #3B4455;\n",
              "      fill: #D2E3FC;\n",
              "    }\n",
              "\n",
              "    [theme=dark] .colab-df-convert:hover {\n",
              "      background-color: #434B5C;\n",
              "      box-shadow: 0px 1px 3px 1px rgba(0, 0, 0, 0.15);\n",
              "      filter: drop-shadow(0px 1px 2px rgba(0, 0, 0, 0.3));\n",
              "      fill: #FFFFFF;\n",
              "    }\n",
              "  </style>\n",
              "\n",
              "      <script>\n",
              "        const buttonEl =\n",
              "          document.querySelector('#df-0d67dac8-9975-4be4-b296-96446ea2585a button.colab-df-convert');\n",
              "        buttonEl.style.display =\n",
              "          google.colab.kernel.accessAllowed ? 'block' : 'none';\n",
              "\n",
              "        async function convertToInteractive(key) {\n",
              "          const element = document.querySelector('#df-0d67dac8-9975-4be4-b296-96446ea2585a');\n",
              "          const dataTable =\n",
              "            await google.colab.kernel.invokeFunction('convertToInteractive',\n",
              "                                                     [key], {});\n",
              "          if (!dataTable) return;\n",
              "\n",
              "          const docLinkHtml = 'Like what you see? Visit the ' +\n",
              "            '<a target=\"_blank\" href=https://colab.research.google.com/notebooks/data_table.ipynb>data table notebook</a>'\n",
              "            + ' to learn more about interactive tables.';\n",
              "          element.innerHTML = '';\n",
              "          dataTable['output_type'] = 'display_data';\n",
              "          await google.colab.output.renderOutput(dataTable, element);\n",
              "          const docLink = document.createElement('div');\n",
              "          docLink.innerHTML = docLinkHtml;\n",
              "          element.appendChild(docLink);\n",
              "        }\n",
              "      </script>\n",
              "    </div>\n",
              "  </div>\n",
              "  "
            ]
          },
          "metadata": {},
          "execution_count": 3
        },
        {
          "output_type": "stream",
          "name": "stdout",
          "text": [
            "Warning: Total number of columns (26) exceeds max_columns (20) limiting to first (20) columns.\n"
          ]
        }
      ]
    },
    {
      "cell_type": "markdown",
      "metadata": {
        "id": "PH1F_Um_-peG"
      },
      "source": [
        "# <b> Problem 3 : Do a basic inspection and print the first and last 15 rows of your dataframe"
      ]
    },
    {
      "cell_type": "code",
      "metadata": {
        "id": "pfsMFefk-peH",
        "outputId": "f7ce21f7-9436-4ad0-fd1d-8602e3d3e500",
        "colab": {
          "base_uri": "https://localhost:8080/"
        }
      },
      "source": [
        "# Your code here\n",
        "df.info()\n",
        "print(df.head(15))\n"
      ],
      "execution_count": 8,
      "outputs": [
        {
          "output_type": "stream",
          "name": "stdout",
          "text": [
            "<class 'pandas.core.frame.DataFrame'>\n",
            "RangeIndex: 205 entries, 0 to 204\n",
            "Data columns (total 26 columns):\n",
            " #   Column             Non-Null Count  Dtype  \n",
            "---  ------             --------------  -----  \n",
            " 0   symboling          205 non-null    int64  \n",
            " 1   normalized-losses  205 non-null    object \n",
            " 2   make               205 non-null    object \n",
            " 3   fuel-type          205 non-null    object \n",
            " 4   aspiration         205 non-null    object \n",
            " 5   num-of-doors       205 non-null    object \n",
            " 6   body-style         205 non-null    object \n",
            " 7   drive-wheels       205 non-null    object \n",
            " 8   engine-location    205 non-null    object \n",
            " 9   wheel-base         205 non-null    float64\n",
            " 10  length             205 non-null    float64\n",
            " 11  width              205 non-null    float64\n",
            " 12  height             205 non-null    float64\n",
            " 13  curb-weight        205 non-null    int64  \n",
            " 14  engine-type        205 non-null    object \n",
            " 15  num-of-cylinders   205 non-null    object \n",
            " 16  engine-size        205 non-null    int64  \n",
            " 17  fuel-system        205 non-null    object \n",
            " 18  bore               205 non-null    object \n",
            " 19  stroke             205 non-null    object \n",
            " 20  compression-ratio  205 non-null    float64\n",
            " 21  horsepower         205 non-null    object \n",
            " 22  peak-rpm           205 non-null    object \n",
            " 23  city-mpg           205 non-null    int64  \n",
            " 24  highway-mpg        205 non-null    int64  \n",
            " 25  price              205 non-null    object \n",
            "dtypes: float64(5), int64(5), object(16)\n",
            "memory usage: 41.8+ KB\n",
            "    symboling normalized-losses         make fuel-type aspiration  \\\n",
            "0           3                 ?  alfa-romero       gas        std   \n",
            "1           3                 ?  alfa-romero       gas        std   \n",
            "2           1                 ?  alfa-romero       gas        std   \n",
            "3           2               164         audi       gas        std   \n",
            "4           2               164         audi       gas        std   \n",
            "5           2                 ?         audi       gas        std   \n",
            "6           1               158         audi       gas        std   \n",
            "7           1                 ?         audi       gas        std   \n",
            "8           1               158         audi       gas      turbo   \n",
            "9           0                 ?         audi       gas      turbo   \n",
            "10          2               192          bmw       gas        std   \n",
            "11          0               192          bmw       gas        std   \n",
            "12          0               188          bmw       gas        std   \n",
            "13          0               188          bmw       gas        std   \n",
            "14          1                 ?          bmw       gas        std   \n",
            "\n",
            "   num-of-doors   body-style drive-wheels engine-location  wheel-base  ...  \\\n",
            "0           two  convertible          rwd           front        88.6  ...   \n",
            "1           two  convertible          rwd           front        88.6  ...   \n",
            "2           two    hatchback          rwd           front        94.5  ...   \n",
            "3          four        sedan          fwd           front        99.8  ...   \n",
            "4          four        sedan          4wd           front        99.4  ...   \n",
            "5           two        sedan          fwd           front        99.8  ...   \n",
            "6          four        sedan          fwd           front       105.8  ...   \n",
            "7          four        wagon          fwd           front       105.8  ...   \n",
            "8          four        sedan          fwd           front       105.8  ...   \n",
            "9           two    hatchback          4wd           front        99.5  ...   \n",
            "10          two        sedan          rwd           front       101.2  ...   \n",
            "11         four        sedan          rwd           front       101.2  ...   \n",
            "12          two        sedan          rwd           front       101.2  ...   \n",
            "13         four        sedan          rwd           front       101.2  ...   \n",
            "14         four        sedan          rwd           front       103.5  ...   \n",
            "\n",
            "    engine-size  fuel-system  bore  stroke compression-ratio horsepower  \\\n",
            "0           130         mpfi  3.47    2.68               9.0        111   \n",
            "1           130         mpfi  3.47    2.68               9.0        111   \n",
            "2           152         mpfi  2.68    3.47               9.0        154   \n",
            "3           109         mpfi  3.19     3.4              10.0        102   \n",
            "4           136         mpfi  3.19     3.4               8.0        115   \n",
            "5           136         mpfi  3.19     3.4               8.5        110   \n",
            "6           136         mpfi  3.19     3.4               8.5        110   \n",
            "7           136         mpfi  3.19     3.4               8.5        110   \n",
            "8           131         mpfi  3.13     3.4               8.3        140   \n",
            "9           131         mpfi  3.13     3.4               7.0        160   \n",
            "10          108         mpfi   3.5     2.8               8.8        101   \n",
            "11          108         mpfi   3.5     2.8               8.8        101   \n",
            "12          164         mpfi  3.31    3.19               9.0        121   \n",
            "13          164         mpfi  3.31    3.19               9.0        121   \n",
            "14          164         mpfi  3.31    3.19               9.0        121   \n",
            "\n",
            "    peak-rpm city-mpg highway-mpg  price  \n",
            "0       5000       21          27  13495  \n",
            "1       5000       21          27  16500  \n",
            "2       5000       19          26  16500  \n",
            "3       5500       24          30  13950  \n",
            "4       5500       18          22  17450  \n",
            "5       5500       19          25  15250  \n",
            "6       5500       19          25  17710  \n",
            "7       5500       19          25  18920  \n",
            "8       5500       17          20  23875  \n",
            "9       5500       16          22      ?  \n",
            "10      5800       23          29  16430  \n",
            "11      5800       23          29  16925  \n",
            "12      4250       21          28  20970  \n",
            "13      4250       21          28  21105  \n",
            "14      4250       20          25  24565  \n",
            "\n",
            "[15 rows x 26 columns]\n"
          ]
        }
      ]
    },
    {
      "cell_type": "code",
      "source": [
        "print(df.tail(15))"
      ],
      "metadata": {
        "id": "UgTHY5OUx_2-",
        "outputId": "4853d870-7eea-45fc-95ad-b295fd5388d6",
        "colab": {
          "base_uri": "https://localhost:8080/"
        }
      },
      "execution_count": 6,
      "outputs": [
        {
          "output_type": "stream",
          "name": "stdout",
          "text": [
            "     symboling normalized-losses        make fuel-type aspiration  \\\n",
            "190          3               256  volkswagen       gas        std   \n",
            "191          0                 ?  volkswagen       gas        std   \n",
            "192          0                 ?  volkswagen    diesel      turbo   \n",
            "193          0                 ?  volkswagen       gas        std   \n",
            "194         -2               103       volvo       gas        std   \n",
            "195         -1                74       volvo       gas        std   \n",
            "196         -2               103       volvo       gas        std   \n",
            "197         -1                74       volvo       gas        std   \n",
            "198         -2               103       volvo       gas      turbo   \n",
            "199         -1                74       volvo       gas      turbo   \n",
            "200         -1                95       volvo       gas        std   \n",
            "201         -1                95       volvo       gas      turbo   \n",
            "202         -1                95       volvo       gas        std   \n",
            "203         -1                95       volvo    diesel      turbo   \n",
            "204         -1                95       volvo       gas      turbo   \n",
            "\n",
            "    num-of-doors body-style drive-wheels engine-location  wheel-base  ...  \\\n",
            "190          two  hatchback          fwd           front        94.5  ...   \n",
            "191         four      sedan          fwd           front       100.4  ...   \n",
            "192         four      sedan          fwd           front       100.4  ...   \n",
            "193         four      wagon          fwd           front       100.4  ...   \n",
            "194         four      sedan          rwd           front       104.3  ...   \n",
            "195         four      wagon          rwd           front       104.3  ...   \n",
            "196         four      sedan          rwd           front       104.3  ...   \n",
            "197         four      wagon          rwd           front       104.3  ...   \n",
            "198         four      sedan          rwd           front       104.3  ...   \n",
            "199         four      wagon          rwd           front       104.3  ...   \n",
            "200         four      sedan          rwd           front       109.1  ...   \n",
            "201         four      sedan          rwd           front       109.1  ...   \n",
            "202         four      sedan          rwd           front       109.1  ...   \n",
            "203         four      sedan          rwd           front       109.1  ...   \n",
            "204         four      sedan          rwd           front       109.1  ...   \n",
            "\n",
            "     engine-size  fuel-system  bore  stroke compression-ratio horsepower  \\\n",
            "190          109         mpfi  3.19     3.4               8.5         90   \n",
            "191          136         mpfi  3.19     3.4               8.5        110   \n",
            "192           97          idi  3.01     3.4              23.0         68   \n",
            "193          109         mpfi  3.19     3.4               9.0         88   \n",
            "194          141         mpfi  3.78    3.15               9.5        114   \n",
            "195          141         mpfi  3.78    3.15               9.5        114   \n",
            "196          141         mpfi  3.78    3.15               9.5        114   \n",
            "197          141         mpfi  3.78    3.15               9.5        114   \n",
            "198          130         mpfi  3.62    3.15               7.5        162   \n",
            "199          130         mpfi  3.62    3.15               7.5        162   \n",
            "200          141         mpfi  3.78    3.15               9.5        114   \n",
            "201          141         mpfi  3.78    3.15               8.7        160   \n",
            "202          173         mpfi  3.58    2.87               8.8        134   \n",
            "203          145          idi  3.01     3.4              23.0        106   \n",
            "204          141         mpfi  3.78    3.15               9.5        114   \n",
            "\n",
            "     peak-rpm city-mpg highway-mpg  price  \n",
            "190      5500       24          29   9980  \n",
            "191      5500       19          24  13295  \n",
            "192      4500       33          38  13845  \n",
            "193      5500       25          31  12290  \n",
            "194      5400       23          28  12940  \n",
            "195      5400       23          28  13415  \n",
            "196      5400       24          28  15985  \n",
            "197      5400       24          28  16515  \n",
            "198      5100       17          22  18420  \n",
            "199      5100       17          22  18950  \n",
            "200      5400       23          28  16845  \n",
            "201      5300       19          25  19045  \n",
            "202      5500       18          23  21485  \n",
            "203      4800       26          27  22470  \n",
            "204      5400       19          25  22625  \n",
            "\n",
            "[15 rows x 26 columns]\n"
          ]
        }
      ]
    },
    {
      "cell_type": "markdown",
      "metadata": {
        "id": "4NfjE6Zi-peN"
      },
      "source": [
        "# <b>Problem 4 : You need to clean the data a little bit now. Replace all column values with the values <code>?</code> and <code>n.a</code> with <code>NaN</code>"
      ]
    },
    {
      "cell_type": "code",
      "metadata": {
        "id": "oP498Mmj-peO"
      },
      "source": [
        "# Your code here\n",
        "\n",
        "df=df.replace(['?','n.a'],np.nan)"
      ],
      "execution_count": 9,
      "outputs": []
    },
    {
      "cell_type": "markdown",
      "metadata": {
        "id": "r00eoWW5-peY"
      },
      "source": [
        "# <b>Problem 5 : Print the company name which manufactured the most expensive car. Also print the price of the most expensive car"
      ]
    },
    {
      "cell_type": "code",
      "metadata": {
        "id": "9wkVhCBt-peZ",
        "outputId": "537f3cd7-49e9-46e9-f915-ce576e6f079a",
        "colab": {
          "base_uri": "https://localhost:8080/"
        }
      },
      "source": [
        "# Your code here\n",
        "max_index = df['price'].idxmax()\n",
        "most_expensive_company = df.loc[max_index, 'make']\n",
        "most_expensive_price = df.loc[max_index, 'price']\n",
        "print(most_expensive_price)\n",
        "print(most_expensive_company)"
      ],
      "execution_count": 19,
      "outputs": [
        {
          "output_type": "stream",
          "name": "stdout",
          "text": [
            "45400.0\n",
            "mercedes-benz\n"
          ]
        }
      ]
    },
    {
      "cell_type": "markdown",
      "metadata": {
        "id": "e1HgPqG4-per"
      },
      "source": [
        "# <b>Problem 6 : Calculate maximum horsepowers for each company. </b>"
      ]
    },
    {
      "cell_type": "code",
      "metadata": {
        "id": "6BhyXGRT-pes",
        "outputId": "ba335707-cba1-4a5a-dd0b-d6aa066a43f8",
        "colab": {
          "base_uri": "https://localhost:8080/"
        }
      },
      "source": [
        "# Your code here\n",
        "\n",
        "max_hp=df.groupby('make')['horsepower'].max()\n",
        "print(max_hp)"
      ],
      "execution_count": 20,
      "outputs": [
        {
          "output_type": "stream",
          "name": "stdout",
          "text": [
            "make\n",
            "alfa-romero      154\n",
            "audi             160\n",
            "bmw              182\n",
            "chevrolet         70\n",
            "dodge             88\n",
            "honda             86\n",
            "isuzu             90\n",
            "jaguar           262\n",
            "mazda             84\n",
            "mercedes-benz    184\n",
            "mercury          175\n",
            "mitsubishi        88\n",
            "nissan            97\n",
            "peugot            97\n",
            "plymouth          88\n",
            "porsche          288\n",
            "renault          NaN\n",
            "saab             160\n",
            "subaru            94\n",
            "toyota            92\n",
            "volkswagen        90\n",
            "volvo            162\n",
            "Name: horsepower, dtype: object\n"
          ]
        }
      ]
    },
    {
      "cell_type": "markdown",
      "metadata": {
        "id": "g4mQp9Oe-pe2"
      },
      "source": [
        "# <b> Problem 7 : Print the total number of cars manufactured by each company"
      ]
    },
    {
      "cell_type": "code",
      "metadata": {
        "id": "Ha-DcEwR-pe2",
        "outputId": "b99f584e-b66a-4d21-c68c-a9617ff7ef93",
        "colab": {
          "base_uri": "https://localhost:8080/"
        }
      },
      "source": [
        "# Your code here\n",
        "\n",
        "cars_number=df['make'].value_counts()\n",
        "print(cars_number)"
      ],
      "execution_count": 22,
      "outputs": [
        {
          "output_type": "stream",
          "name": "stdout",
          "text": [
            "toyota           32\n",
            "nissan           18\n",
            "mazda            17\n",
            "mitsubishi       13\n",
            "honda            13\n",
            "volkswagen       12\n",
            "subaru           12\n",
            "peugot           11\n",
            "volvo            11\n",
            "dodge             9\n",
            "mercedes-benz     8\n",
            "bmw               8\n",
            "audi              7\n",
            "plymouth          7\n",
            "saab              6\n",
            "porsche           5\n",
            "isuzu             4\n",
            "jaguar            3\n",
            "chevrolet         3\n",
            "alfa-romero       3\n",
            "renault           2\n",
            "mercury           1\n",
            "Name: make, dtype: int64\n"
          ]
        }
      ]
    },
    {
      "cell_type": "markdown",
      "metadata": {
        "id": "ISvNXTil-pfD"
      },
      "source": [
        "# <b> Problem 8 : Create a new column for the updated price. This updated price will be calculated on top of the given price - if the engine is in front, price will be same else if the engine is in rear, price will be doubled </b>\n"
      ]
    },
    {
      "cell_type": "code",
      "metadata": {
        "id": "uAxTru2g-pfE"
      },
      "source": [
        "# Your code here. Use apply and lambda\n",
        "\n",
        "df['updated_price'] = df.apply(lambda x: x['price'] if x['engine-location'] == 'front' else 2 * x['price'], axis=1)"
      ],
      "execution_count": 24,
      "outputs": []
    },
    {
      "cell_type": "markdown",
      "metadata": {
        "id": "_ZSbVXEl-pfJ"
      },
      "source": [
        "# <b>Problem 9 : Sort the dataframe by car and price columns"
      ]
    },
    {
      "cell_type": "code",
      "metadata": {
        "id": "IhYvJzXh-pfK",
        "outputId": "30392edc-cc26-46d0-dd45-60b9c1641644",
        "colab": {
          "base_uri": "https://localhost:8080/"
        }
      },
      "source": [
        "# Your code here\n",
        "\n",
        "sorted_df = df.sort_values(['make', 'price'])\n",
        "print(sorted_df)"
      ],
      "execution_count": 26,
      "outputs": [
        {
          "output_type": "stream",
          "name": "stdout",
          "text": [
            "     symboling normalized-losses         make fuel-type aspiration  \\\n",
            "0            3               NaN  alfa-romero       gas        std   \n",
            "1            3               NaN  alfa-romero       gas        std   \n",
            "2            1               NaN  alfa-romero       gas        std   \n",
            "3            2               164         audi       gas        std   \n",
            "5            2               NaN         audi       gas        std   \n",
            "..         ...               ...          ...       ...        ...   \n",
            "199         -1                74        volvo       gas      turbo   \n",
            "201         -1                95        volvo       gas      turbo   \n",
            "202         -1                95        volvo       gas        std   \n",
            "203         -1                95        volvo    diesel      turbo   \n",
            "204         -1                95        volvo       gas      turbo   \n",
            "\n",
            "    num-of-doors   body-style drive-wheels engine-location  wheel-base  ...  \\\n",
            "0            two  convertible          rwd           front        88.6  ...   \n",
            "1            two  convertible          rwd           front        88.6  ...   \n",
            "2            two    hatchback          rwd           front        94.5  ...   \n",
            "3           four        sedan          fwd           front        99.8  ...   \n",
            "5            two        sedan          fwd           front        99.8  ...   \n",
            "..           ...          ...          ...             ...         ...  ...   \n",
            "199         four        wagon          rwd           front       104.3  ...   \n",
            "201         four        sedan          rwd           front       109.1  ...   \n",
            "202         four        sedan          rwd           front       109.1  ...   \n",
            "203         four        sedan          rwd           front       109.1  ...   \n",
            "204         four        sedan          rwd           front       109.1  ...   \n",
            "\n",
            "     fuel-system  bore  stroke  compression-ratio horsepower peak-rpm  \\\n",
            "0           mpfi  3.47    2.68                9.0        111     5000   \n",
            "1           mpfi  3.47    2.68                9.0        111     5000   \n",
            "2           mpfi  2.68    3.47                9.0        154     5000   \n",
            "3           mpfi  3.19     3.4               10.0        102     5500   \n",
            "5           mpfi  3.19     3.4                8.5        110     5500   \n",
            "..           ...   ...     ...                ...        ...      ...   \n",
            "199         mpfi  3.62    3.15                7.5        162     5100   \n",
            "201         mpfi  3.78    3.15                8.7        160     5300   \n",
            "202         mpfi  3.58    2.87                8.8        134     5500   \n",
            "203          idi  3.01     3.4               23.0        106     4800   \n",
            "204         mpfi  3.78    3.15                9.5        114     5400   \n",
            "\n",
            "     city-mpg highway-mpg    price updated_price  \n",
            "0          21          27  13495.0       13495.0  \n",
            "1          21          27  16500.0       16500.0  \n",
            "2          19          26  16500.0       16500.0  \n",
            "3          24          30  13950.0       13950.0  \n",
            "5          19          25  15250.0       15250.0  \n",
            "..        ...         ...      ...           ...  \n",
            "199        17          22  18950.0       18950.0  \n",
            "201        19          25  19045.0       19045.0  \n",
            "202        18          23  21485.0       21485.0  \n",
            "203        26          27  22470.0       22470.0  \n",
            "204        19          25  22625.0       22625.0  \n",
            "\n",
            "[205 rows x 27 columns]\n"
          ]
        }
      ]
    },
    {
      "cell_type": "markdown",
      "metadata": {
        "id": "7FrpY5oAVJny"
      },
      "source": [
        "# <b> Problem 10 : Create a new column which stores the number of doors in a car as integers. "
      ]
    },
    {
      "cell_type": "code",
      "metadata": {
        "id": "JA1sGbTWVa_O",
        "outputId": "430ac8d5-70de-4dac-d3e4-c4329fb387db",
        "colab": {
          "base_uri": "https://localhost:8080/"
        }
      },
      "source": [
        "# Your code here. Use apply\n",
        "\n",
        "door_dict = {'two': 2, 'four': 4}\n",
        "df['doors_int'] = df['num-of-doors'].map(door_dict)\n",
        "print(df)\n"
      ],
      "execution_count": 29,
      "outputs": [
        {
          "output_type": "stream",
          "name": "stdout",
          "text": [
            "     symboling normalized-losses         make fuel-type aspiration  \\\n",
            "0            3               NaN  alfa-romero       gas        std   \n",
            "1            3               NaN  alfa-romero       gas        std   \n",
            "2            1               NaN  alfa-romero       gas        std   \n",
            "3            2               164         audi       gas        std   \n",
            "4            2               164         audi       gas        std   \n",
            "..         ...               ...          ...       ...        ...   \n",
            "200         -1                95        volvo       gas        std   \n",
            "201         -1                95        volvo       gas      turbo   \n",
            "202         -1                95        volvo       gas        std   \n",
            "203         -1                95        volvo    diesel      turbo   \n",
            "204         -1                95        volvo       gas      turbo   \n",
            "\n",
            "    num-of-doors   body-style drive-wheels engine-location  wheel-base  ...  \\\n",
            "0            two  convertible          rwd           front        88.6  ...   \n",
            "1            two  convertible          rwd           front        88.6  ...   \n",
            "2            two    hatchback          rwd           front        94.5  ...   \n",
            "3           four        sedan          fwd           front        99.8  ...   \n",
            "4           four        sedan          4wd           front        99.4  ...   \n",
            "..           ...          ...          ...             ...         ...  ...   \n",
            "200         four        sedan          rwd           front       109.1  ...   \n",
            "201         four        sedan          rwd           front       109.1  ...   \n",
            "202         four        sedan          rwd           front       109.1  ...   \n",
            "203         four        sedan          rwd           front       109.1  ...   \n",
            "204         four        sedan          rwd           front       109.1  ...   \n",
            "\n",
            "     bore  stroke  compression-ratio  horsepower peak-rpm city-mpg  \\\n",
            "0    3.47    2.68                9.0         111     5000       21   \n",
            "1    3.47    2.68                9.0         111     5000       21   \n",
            "2    2.68    3.47                9.0         154     5000       19   \n",
            "3    3.19     3.4               10.0         102     5500       24   \n",
            "4    3.19     3.4                8.0         115     5500       18   \n",
            "..    ...     ...                ...         ...      ...      ...   \n",
            "200  3.78    3.15                9.5         114     5400       23   \n",
            "201  3.78    3.15                8.7         160     5300       19   \n",
            "202  3.58    2.87                8.8         134     5500       18   \n",
            "203  3.01     3.4               23.0         106     4800       26   \n",
            "204  3.78    3.15                9.5         114     5400       19   \n",
            "\n",
            "     highway-mpg    price updated_price doors_int  \n",
            "0             27  13495.0       13495.0       2.0  \n",
            "1             27  16500.0       16500.0       2.0  \n",
            "2             26  16500.0       16500.0       2.0  \n",
            "3             30  13950.0       13950.0       4.0  \n",
            "4             22  17450.0       17450.0       4.0  \n",
            "..           ...      ...           ...       ...  \n",
            "200           28  16845.0       16845.0       4.0  \n",
            "201           25  19045.0       19045.0       4.0  \n",
            "202           23  21485.0       21485.0       4.0  \n",
            "203           27  22470.0       22470.0       4.0  \n",
            "204           25  22625.0       22625.0       4.0  \n",
            "\n",
            "[205 rows x 28 columns]\n"
          ]
        }
      ]
    },
    {
      "cell_type": "markdown",
      "metadata": {
        "id": "lXyj2eMQ-pfX"
      },
      "source": [
        "# <b>Problem 11 : Concatenate the two data frames given below firstly row wise and secondly column wise.</b>\n",
        "\n",
        "<code>GermanCars = {'Company': ['Ford', 'Mercedes', 'BMV', 'Audi'], 'Price': [23845, 171995, 135925 , 71400]}</code>\n",
        "\n",
        "<code>japaneseCars = {'Company': ['Toyota', 'Honda', 'Nissan', 'Mitsubishi '], 'Price': [29995, 23600, 61500 , 58900]}</code>"
      ]
    },
    {
      "cell_type": "code",
      "metadata": {
        "id": "jkLzShbM-pfY",
        "outputId": "fc1e3935-d6ea-4475-d579-ce4a009bb861",
        "colab": {
          "base_uri": "https://localhost:8080/"
        }
      },
      "source": [
        "# Your code here\n",
        "\n",
        "GermanCars = {'make': ['Ford', 'Mercedes', 'BMV', 'Audi'], 'Price': [23845, 171995, 135925 , 71400]}\n",
        "df1 = pd.DataFrame(GermanCars)\n",
        "\n",
        "japaneseCars = {'make': ['Toyota', 'Honda', 'Nissan', 'Mitsubishi'], 'Price': [29995, 23600, 61500 , 58900]}\n",
        "df2 = pd.DataFrame(japaneseCars)\n",
        "\n",
        "df_row = pd.concat([df1, df2], axis=0)\n",
        "print(df_row)\n",
        "\n",
        "df_col = pd.concat([df1, df2], axis=1)\n",
        "print(df_col)\n"
      ],
      "execution_count": 30,
      "outputs": [
        {
          "output_type": "stream",
          "name": "stdout",
          "text": [
            "         make   Price\n",
            "0        Ford   23845\n",
            "1    Mercedes  171995\n",
            "2         BMV  135925\n",
            "3        Audi   71400\n",
            "0      Toyota   29995\n",
            "1       Honda   23600\n",
            "2      Nissan   61500\n",
            "3  Mitsubishi   58900\n",
            "       make   Price        make  Price\n",
            "0      Ford   23845      Toyota  29995\n",
            "1  Mercedes  171995       Honda  23600\n",
            "2       BMV  135925      Nissan  61500\n",
            "3      Audi   71400  Mitsubishi  58900\n"
          ]
        }
      ]
    }
  ]
}