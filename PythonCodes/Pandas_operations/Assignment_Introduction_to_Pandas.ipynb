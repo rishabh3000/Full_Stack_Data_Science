{
  "nbformat": 4,
  "nbformat_minor": 0,
  "metadata": {
    "colab": {
      "provenance": []
    },
    "kernelspec": {
      "name": "python3",
      "display_name": "Python 3"
    }
  },
  "cells": [
    {
      "cell_type": "markdown",
      "metadata": {
        "id": "MKXTc2Tas23T"
      },
      "source": [
        "# <u> Use only those concepts which have been taught till now </u>"
      ]
    },
    {
      "cell_type": "code",
      "metadata": {
        "id": "0V3Xtuh9siNn"
      },
      "source": [
        "import numpy as np\n",
        "import pandas as pd"
      ],
      "execution_count": 1,
      "outputs": []
    },
    {
      "cell_type": "markdown",
      "metadata": {
        "id": "Ase3qjp9cJUC"
      },
      "source": [
        "# <u>**Problem 1**</u>\n",
        "\n",
        "### You are given a list of urls. You need to extract the domain name from the urls in another list. Also you need to extract the ending string which the url ends with. \n",
        "\n",
        "### For example, https://www.example.com/market.php -- In this example, domain name is <code>www.example.com</code> and the ending string is <code>php</code>\n",
        "\n"
      ]
    },
    {
      "cell_type": "code",
      "metadata": {
        "id": "xj0SaK7smcPu"
      },
      "source": [
        "# List of urls\n",
        "url_list = ['https://blog.hubspot.com/marketing/parts-url',\n",
        "            'https://www.almabetter.com/enrollments',\n",
        "            'https://pandas.pydata.org/pandas-docs/stable/reference/api/pandas.DataFrame.rename.html',\n",
        "            'https://www.programiz.com/python-programming/list']"
      ],
      "execution_count": 2,
      "outputs": []
    },
    {
      "cell_type": "code",
      "metadata": {
        "id": "N1hhYCZw3V1c",
        "outputId": "009eb0ba-2a31-4da2-ce00-d1ec3e7ac9da",
        "colab": {
          "base_uri": "https://localhost:8080/"
        }
      },
      "source": [
        "# Extract the domains and the ending string. Hint : use the split method for a string\n",
        "\n",
        "\n",
        "domain_list = []\n",
        "ending_string_list = []\n",
        "\n",
        "for url in url_list:\n",
        "    split_url = url.split('/')\n",
        "    domain = split_url[2]\n",
        "    domain_list.append(domain)\n",
        "    ending_string = split_url[-1].split('.')[-1]\n",
        "    ending_string_list.append(ending_string)\n",
        "\n",
        "print(domain_list)         \n",
        "print(ending_string_list)\n"
      ],
      "execution_count": 3,
      "outputs": [
        {
          "output_type": "stream",
          "name": "stdout",
          "text": [
            "['blog.hubspot.com', 'www.almabetter.com', 'pandas.pydata.org', 'www.programiz.com']\n",
            "['parts-url', 'enrollments', 'html', 'list']\n"
          ]
        }
      ]
    },
    {
      "cell_type": "markdown",
      "metadata": {
        "id": "EVgY54DrvLEF"
      },
      "source": [
        "## Next create a pandas dataframe with the above three lists."
      ]
    },
    {
      "cell_type": "code",
      "metadata": {
        "id": "2osXcjvpu6Uz",
        "outputId": "58a5b2a5-5b7f-4a7c-e5b7-4ca39a5f1626",
        "colab": {
          "base_uri": "https://localhost:8080/"
        }
      },
      "source": [
        "# Your code here.\n",
        "\n",
        "data = {'URL': url_list, 'Domain': domain_list, 'Ending String': ending_string_list}\n",
        "df = pd.DataFrame(data)\n",
        "\n",
        "print(df)\n",
        "\n"
      ],
      "execution_count": 4,
      "outputs": [
        {
          "output_type": "stream",
          "name": "stdout",
          "text": [
            "                                                 URL              Domain  \\\n",
            "0       https://blog.hubspot.com/marketing/parts-url    blog.hubspot.com   \n",
            "1             https://www.almabetter.com/enrollments  www.almabetter.com   \n",
            "2  https://pandas.pydata.org/pandas-docs/stable/r...   pandas.pydata.org   \n",
            "3  https://www.programiz.com/python-programming/list   www.programiz.com   \n",
            "\n",
            "  Ending String  \n",
            "0     parts-url  \n",
            "1   enrollments  \n",
            "2          html  \n",
            "3          list  \n"
          ]
        }
      ]
    }
  ]
}