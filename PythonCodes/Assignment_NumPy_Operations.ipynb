{
  "nbformat": 4,
  "nbformat_minor": 0,
  "metadata": {
    "colab": {
      "provenance": []
    },
    "kernelspec": {
      "name": "python3",
      "display_name": "Python 3"
    }
  },
  "cells": [
    {
      "cell_type": "markdown",
      "metadata": {
        "id": "MKXTc2Tas23T"
      },
      "source": [
        "# <u> Use only those concepts which have been taught till now </u>"
      ]
    },
    {
      "cell_type": "code",
      "metadata": {
        "id": "0V3Xtuh9siNn"
      },
      "source": [
        "import numpy as np"
      ],
      "execution_count": 1,
      "outputs": []
    },
    {
      "cell_type": "markdown",
      "metadata": {
        "id": "Ase3qjp9cJUC"
      },
      "source": [
        "# <u>**Problem 1**</u>\n",
        "\n",
        "### What is the average value of the first 5 rows of the third and fourth columns?\n",
        "\n"
      ]
    },
    {
      "cell_type": "code",
      "metadata": {
        "id": "xj0SaK7smcPu",
        "outputId": "4fe0ff17-3263-4374-a2fd-48229e6bfad8",
        "colab": {
          "base_uri": "https://localhost:8080/"
        }
      },
      "source": [
        "np.random.seed(21) # This guarantees the code will generate the same set of random numbers whenever executed\n",
        "random_integers = np.random.randint(1,high=500000, size=(20, 5))\n",
        "random_integers"
      ],
      "execution_count": 2,
      "outputs": [
        {
          "output_type": "execute_result",
          "data": {
            "text/plain": [
              "array([[ 80842, 333008, 202553, 140037,  81969],\n",
              "       [ 63857,  42105, 261540, 481981, 176739],\n",
              "       [489984, 326386, 110795, 394863,  25024],\n",
              "       [ 38317,  49982, 408830, 485118,  16119],\n",
              "       [407675, 231729, 265455, 109413, 103399],\n",
              "       [174677, 343356, 301717, 224120, 401101],\n",
              "       [140473, 254634, 112262,  25063, 108262],\n",
              "       [375059, 406983, 208947, 115641, 296685],\n",
              "       [444899, 129585, 171318, 313094, 425041],\n",
              "       [188411, 335140, 141681,  59641, 211420],\n",
              "       [287650,   8973, 477425, 382803, 465168],\n",
              "       [  3975,  32213, 160603, 275485, 388234],\n",
              "       [246225,  56174, 244097,   9350, 496966],\n",
              "       [225516, 273338,  73335, 283013, 212813],\n",
              "       [ 38175, 282399, 318413, 337639, 379802],\n",
              "       [198049, 101115, 419547, 260219, 325793],\n",
              "       [148593, 425024, 348570, 117968, 107007],\n",
              "       [ 52547, 180346, 178760, 305186, 262153],\n",
              "       [ 11835, 449971, 494184, 472031, 353049],\n",
              "       [476442,  35455, 191553, 384154,  29917]])"
            ]
          },
          "metadata": {},
          "execution_count": 2
        }
      ]
    },
    {
      "cell_type": "code",
      "metadata": {
        "id": "N1hhYCZw3V1c",
        "outputId": "7712189d-a1d0-45fb-8782-eb82acec590e",
        "colab": {
          "base_uri": "https://localhost:8080/"
        }
      },
      "source": [
        "# Your code here\n",
        "\n",
        "# Slice the array to get the first 5 rows of the third and fourth columns\n",
        "slice_array = random_integers[:5, 2:4]\n",
        "\n",
        "# Calculate the mean of the slice array\n",
        "mean_value = np.mean(slice_array)\n",
        "\n",
        "print(\"The average value of the first 5 rows of the third and fourth columns is:\", mean_value)\n",
        "\n"
      ],
      "execution_count": 3,
      "outputs": [
        {
          "output_type": "stream",
          "name": "stdout",
          "text": [
            "The average value of the first 5 rows of the third and fourth columns is: 286058.5\n"
          ]
        }
      ]
    },
    {
      "cell_type": "markdown",
      "metadata": {
        "id": "POAj5sBgd3gd"
      },
      "source": [
        "#<u>**Problem 2**</u>\n",
        "\n",
        "### In this problem, we are going to calculate distances between some pairs of points :\n",
        "\n",
        "### <u> Measures of distances </u>\n",
        "* ### Euclidean Distance : The distance between two points $(x_{1},y_{1})$ , $(x_{2},y_{2})$ is defined as :\n",
        "${\\displaystyle d(x,y)={\\sqrt {(x_{1}-x_{2})^{2}+(y_{1}-y_{2})^{2}}}.}$\n",
        "\n",
        "* ### Manhattan Distance : The distance between two points $(x_{1},y_{1})$ , $(x_{2},y_{2})$ is defined as :\n",
        "${\\displaystyle d(x,y)=|x_{1}-x_{2}|+|y_{1}-y_{2}|}$\n"
      ]
    },
    {
      "cell_type": "markdown",
      "metadata": {
        "id": "lw7TLsfd-eXc"
      },
      "source": [
        "### Create a 2-D array of 10 points where the x-coordinates and the y-coordinates can take random integral values between 5 and 20.\n",
        "\n",
        "\n",
        "### Next, create two 1-D arrays(one for  Euclidean distance and the other for  Manhattan distance) for these points\n"
      ]
    },
    {
      "cell_type": "code",
      "metadata": {
        "id": "TOEq4PEP5y8X",
        "outputId": "83c1150d-b955-427c-e6bb-40fb83a9730a",
        "colab": {
          "base_uri": "https://localhost:8080/"
        }
      },
      "source": [
        "# Create the 10 points\n",
        "\n",
        "np.random.seed(42)\n",
        "points = np.random.randint(5, 21, size=(10, 2))\n",
        "print(\"Points:\\n\", points)"
      ],
      "execution_count": 4,
      "outputs": [
        {
          "output_type": "stream",
          "name": "stdout",
          "text": [
            "Points:\n",
            " [[11  8]\n",
            " [17 19]\n",
            " [15 12]\n",
            " [17  9]\n",
            " [11 14]\n",
            " [ 7 11]\n",
            " [15 15]\n",
            " [12  9]\n",
            " [ 8 12]\n",
            " [12  7]]\n"
          ]
        }
      ]
    },
    {
      "cell_type": "code",
      "metadata": {
        "id": "n86qvsfF6PO2",
        "outputId": "855920d5-710a-4c01-edc3-d62ddd8f8022",
        "colab": {
          "base_uri": "https://localhost:8080/"
        }
      },
      "source": [
        "# Calculate Euclidean distances between these pairs of points (total 10*10 = 100 pairs including self pairs). This should give you a 10*10 2-D array where each value corresponds to the distance between a pair\n",
        "\n",
        "distances = np.zeros((10, 10))\n",
        "for i in range(10):\n",
        "    for j in range(10):\n",
        "        distances[i, j] = np.sqrt(np.sum((points[i] - points[j])**2))\n",
        "        \n",
        "print('Euclidean distances:\\n', distances)\n",
        "\n",
        "\n"
      ],
      "execution_count": 6,
      "outputs": [
        {
          "output_type": "stream",
          "name": "stdout",
          "text": [
            "Euclidean distances:\n",
            " [[ 0.         11.04536102 17.49285568 12.04159458 13.34166406 15.23154621\n",
            "   7.07106781  5.          3.60555128  7.21110255]\n",
            " [11.04536102  0.          8.94427191  1.          4.47213595  7.61577311\n",
            "   4.47213595 12.52996409  9.8488578   7.07106781]\n",
            " [17.49285568  8.94427191  0.          8.54400375 12.16552506 15.03329638\n",
            "  12.80624847 20.51828453 17.69180601 15.8113883 ]\n",
            " [12.04159458  1.          8.54400375  0.          4.12310563  7.28010989\n",
            "   5.38516481 13.41640786 10.77032961  7.81024968]\n",
            " [13.34166406  4.47213595 12.16552506  4.12310563  0.          3.16227766\n",
            "   6.32455532 13.15294644 11.          7.07106781]\n",
            " [15.23154621  7.61577311 15.03329638  7.28010989  3.16227766  0.\n",
            "   8.60232527 14.03566885 12.36931688  8.24621125]\n",
            " [ 7.07106781  4.47213595 12.80624847  5.38516481  6.32455532  8.60232527\n",
            "   0.          8.06225775  5.38516481  3.16227766]\n",
            " [ 5.         12.52996409 20.51828453 13.41640786 13.15294644 14.03566885\n",
            "   8.06225775  0.          2.82842712  6.08276253]\n",
            " [ 3.60555128  9.8488578  17.69180601 10.77032961 11.         12.36931688\n",
            "   5.38516481  2.82842712  0.          4.12310563]\n",
            " [ 7.21110255  7.07106781 15.8113883   7.81024968  7.07106781  8.24621125\n",
            "   3.16227766  6.08276253  4.12310563  0.        ]]\n"
          ]
        }
      ]
    },
    {
      "cell_type": "code",
      "metadata": {
        "id": "-FIU9Wp97V3P",
        "outputId": "1ab8e86f-e855-4f00-8547-e8434b8a3585",
        "colab": {
          "base_uri": "https://localhost:8080/"
        }
      },
      "source": [
        "# Calculate Manhattan distances between these pairs of points (total 10*10 = 100 pairs inlcuding self pairs).This should give you a 10*10 2-D array where each value corresponds to the distance between a pair.\n",
        "\n",
        "manhattan_distances = np.zeros((10, 10))\n",
        "for i in range(10):\n",
        "    for j in range(10):\n",
        "        manhattan_distances[i, j] = abs(points[i, 0] - points[j, 0]) + abs(points[i, 1] - points[j, 1])\n",
        "        \n",
        "print(manhattan_distances)\n",
        "\n"
      ],
      "execution_count": 7,
      "outputs": [
        {
          "output_type": "stream",
          "name": "stdout",
          "text": [
            "[[ 0. 12. 24. 13. 16. 20.  8.  5.  5. 10.]\n",
            " [12.  0. 12.  1.  6. 10.  6. 17. 13. 10.]\n",
            " [24. 12.  0. 11. 14. 16. 18. 29. 25. 22.]\n",
            " [13.  1. 11.  0.  5.  9.  7. 18. 14. 11.]\n",
            " [16.  6. 14.  5.  0.  4.  8. 15. 11.  8.]\n",
            " [20. 10. 16.  9.  4.  0. 12. 15. 15. 10.]\n",
            " [ 8.  6. 18.  7.  8. 12.  0. 11.  7.  4.]\n",
            " [ 5. 17. 29. 18. 15. 15. 11.  0.  4.  7.]\n",
            " [ 5. 13. 25. 14. 11. 15.  7.  4.  0.  5.]\n",
            " [10. 10. 22. 11.  8. 10.  4.  7.  5.  0.]]\n"
          ]
        }
      ]
    },
    {
      "cell_type": "markdown",
      "metadata": {
        "id": "5ZaKtQlZBLoQ"
      },
      "source": [
        "## Find the closest pairs (excluding self pairs) on the basis of both the distance measures"
      ]
    },
    {
      "cell_type": "code",
      "source": [
        "#the code to find the closest pairs based on Euclidean distance:\n",
        "euclidean_distance = []\n",
        "for i in range(10):\n",
        "    for j in range(i+1, 10):\n",
        "        dist = np.sqrt(np.sum((points[i]-points[j])**2))\n",
        "        euclidean_distance.append(dist)\n",
        "\n",
        "# Calculate Manhattan distance between pairs of points\n",
        "manhattan_distance = []\n",
        "for i in range(10):\n",
        "    for j in range(i+1, 10):\n",
        "        dist = np.sum(np.abs(points[i]-points[j]))\n",
        "        manhattan_distance.append(dist)\n",
        "\n",
        "print(\"Euclidean Distance:\", euclidean_distance)\n",
        "print(\"Manhattan Distance:\", manhattan_distance)"
      ],
      "metadata": {
        "id": "prQWZTGzdpio",
        "outputId": "bead73ec-cc52-4b00-a522-ab0eb459d108",
        "colab": {
          "base_uri": "https://localhost:8080/"
        }
      },
      "execution_count": 9,
      "outputs": [
        {
          "output_type": "stream",
          "name": "stdout",
          "text": [
            "Euclidean Distance: [11.045361017187261, 17.4928556845359, 12.041594578792296, 13.341664064126334, 15.231546211727817, 7.0710678118654755, 5.0, 3.605551275463989, 7.211102550927978, 8.94427190999916, 1.0, 4.47213595499958, 7.615773105863909, 4.47213595499958, 12.529964086141668, 9.848857801796104, 7.0710678118654755, 8.54400374531753, 12.165525060596439, 15.033296378372908, 12.806248474865697, 20.518284528683193, 17.69180601295413, 15.811388300841896, 4.123105625617661, 7.280109889280518, 5.385164807134504, 13.416407864998739, 10.770329614269007, 7.810249675906654, 3.1622776601683795, 6.324555320336759, 13.152946437965905, 11.0, 7.0710678118654755, 8.602325267042627, 14.035668847618199, 12.36931687685298, 8.246211251235321, 8.06225774829855, 5.385164807134504, 3.1622776601683795, 2.8284271247461903, 6.082762530298219, 4.123105625617661]\n",
            "Manhattan Distance: [12, 24, 13, 16, 20, 8, 5, 5, 10, 12, 1, 6, 10, 6, 17, 13, 10, 11, 14, 16, 18, 29, 25, 22, 5, 9, 7, 18, 14, 11, 4, 8, 15, 11, 8, 12, 15, 15, 10, 11, 7, 4, 4, 7, 5]\n"
          ]
        }
      ]
    },
    {
      "cell_type": "markdown",
      "metadata": {
        "id": "rnEIpxdzfIhF"
      },
      "source": [
        "# <u>**Problem 3**</u>\n",
        "\n",
        "## Extract all the contiguous 3x3 blocks from a random 10x10 matrix. For example, the first matrix corresponds to [:3,:3], then the second matrix corresponds to [:3,1:4],.... Once you have covered the first three rows, then the next set of matrices would be [1:4,:3],[1:4,1:4],.... and so on and so forth. The last matrix would be [7:10,7:10]"
      ]
    },
    {
      "cell_type": "code",
      "metadata": {
        "id": "NuQh8LLBma-0",
        "outputId": "42c99184-2626-4dfc-a939-4d8a9817293f",
        "colab": {
          "base_uri": "https://localhost:8080/"
        }
      },
      "source": [
        "# Your code below ..\n",
        "\n",
        "\n",
        "random_matrix = np.random.randint(1, high=100, size=(10,10))\n",
        "\n",
        "blocks = []\n",
        "\n",
        "for i in range(8):\n",
        "    for j in range(8):\n",
        "        blocks.append(random_matrix[i:i+3, j:j+3])\n",
        "\n",
        "\n",
        "for block in blocks:\n",
        "    print(block)\n",
        "\n",
        "\n",
        "\n",
        "\n",
        "\n"
      ],
      "execution_count": 12,
      "outputs": [
        {
          "output_type": "stream",
          "name": "stdout",
          "text": [
            "[[49 85 60]\n",
            " [51 57 99]\n",
            " [13 83 16]]\n",
            "[[85 60 21]\n",
            " [57 99 49]\n",
            " [83 16  7]]\n",
            "[[60 21 77]\n",
            " [99 49 54]\n",
            " [16  7 85]]\n",
            "[[21 77 57]\n",
            " [49 54  6]\n",
            " [ 7 85 91]]\n",
            "[[77 57 42]\n",
            " [54  6 81]\n",
            " [85 91 29]]\n",
            "[[57 42  6]\n",
            " [ 6 81 36]\n",
            " [91 29 10]]\n",
            "[[42  6 19]\n",
            " [81 36 92]\n",
            " [29 10 81]]\n",
            "[[ 6 19 71]\n",
            " [36 92 34]\n",
            " [10 81  1]]\n",
            "[[51 57 99]\n",
            " [13 83 16]\n",
            " [ 6 70 58]]\n",
            "[[57 99 49]\n",
            " [83 16  7]\n",
            " [70 58  5]]\n",
            "[[99 49 54]\n",
            " [16  7 85]\n",
            " [58  5 77]]\n",
            "[[49 54  6]\n",
            " [ 7 85 91]\n",
            " [ 5 77 31]]\n",
            "[[54  6 81]\n",
            " [85 91 29]\n",
            " [77 31 31]]\n",
            "[[ 6 81 36]\n",
            " [91 29 10]\n",
            " [31 31 77]]\n",
            "[[81 36 92]\n",
            " [29 10 81]\n",
            " [31 77 26]]\n",
            "[[36 92 34]\n",
            " [10 81  1]\n",
            " [77 26 33]]\n",
            "[[13 83 16]\n",
            " [ 6 70 58]\n",
            " [91 33 64]]\n",
            "[[83 16  7]\n",
            " [70 58  5]\n",
            " [33 64 26]]\n",
            "[[16  7 85]\n",
            " [58  5 77]\n",
            " [64 26 80]]\n",
            "[[ 7 85 91]\n",
            " [ 5 77 31]\n",
            " [26 80 54]]\n",
            "[[85 91 29]\n",
            " [77 31 31]\n",
            " [80 54 67]]\n",
            "[[91 29 10]\n",
            " [31 31 77]\n",
            " [54 67 72]]\n",
            "[[29 10 81]\n",
            " [31 77 26]\n",
            " [67 72 34]]\n",
            "[[10 81  1]\n",
            " [77 26 33]\n",
            " [72 34  9]]\n",
            "[[ 6 70 58]\n",
            " [91 33 64]\n",
            " [59 51 95]]\n",
            "[[70 58  5]\n",
            " [33 64 26]\n",
            " [51 95 25]]\n",
            "[[58  5 77]\n",
            " [64 26 80]\n",
            " [95 25 26]]\n",
            "[[ 5 77 31]\n",
            " [26 80 54]\n",
            " [25 26 65]]\n",
            "[[77 31 31]\n",
            " [80 54 67]\n",
            " [26 65 26]]\n",
            "[[31 31 77]\n",
            " [54 67 72]\n",
            " [65 26 93]]\n",
            "[[31 77 26]\n",
            " [67 72 34]\n",
            " [26 93 79]]\n",
            "[[77 26 33]\n",
            " [72 34  9]\n",
            " [93 79 48]]\n",
            "[[91 33 64]\n",
            " [59 51 95]\n",
            " [40  6 44]]\n",
            "[[33 64 26]\n",
            " [51 95 25]\n",
            " [ 6 44 19]]\n",
            "[[64 26 80]\n",
            " [95 25 26]\n",
            " [44 19 40]]\n",
            "[[26 80 54]\n",
            " [25 26 65]\n",
            " [19 40 97]]\n",
            "[[80 54 67]\n",
            " [26 65 26]\n",
            " [40 97  5]]\n",
            "[[54 67 72]\n",
            " [65 26 93]\n",
            " [97  5 35]]\n",
            "[[67 72 34]\n",
            " [26 93 79]\n",
            " [ 5 35 51]]\n",
            "[[72 34  9]\n",
            " [93 79 48]\n",
            " [35 51 97]]\n",
            "[[59 51 95]\n",
            " [40  6 44]\n",
            " [58 17  2]]\n",
            "[[51 95 25]\n",
            " [ 6 44 19]\n",
            " [17  2 52]]\n",
            "[[95 25 26]\n",
            " [44 19 40]\n",
            " [ 2 52  2]]\n",
            "[[25 26 65]\n",
            " [19 40 97]\n",
            " [52  2 28]]\n",
            "[[26 65 26]\n",
            " [40 97  5]\n",
            " [ 2 28 34]]\n",
            "[[65 26 93]\n",
            " [97  5 35]\n",
            " [28 34 33]]\n",
            "[[26 93 79]\n",
            " [ 5 35 51]\n",
            " [34 33 32]]\n",
            "[[93 79 48]\n",
            " [35 51 97]\n",
            " [33 32 67]]\n",
            "[[40  6 44]\n",
            " [58 17  2]\n",
            " [87 75 94]]\n",
            "[[ 6 44 19]\n",
            " [17  2 52]\n",
            " [75 94 90]]\n",
            "[[44 19 40]\n",
            " [ 2 52  2]\n",
            " [94 90 82]]\n",
            "[[19 40 97]\n",
            " [52  2 28]\n",
            " [90 82 68]]\n",
            "[[40 97  5]\n",
            " [ 2 28 34]\n",
            " [82 68  2]]\n",
            "[[97  5 35]\n",
            " [28 34 33]\n",
            " [68  2 66]]\n",
            "[[ 5 35 51]\n",
            " [34 33 32]\n",
            " [ 2 66 80]]\n",
            "[[35 51 97]\n",
            " [33 32 67]\n",
            " [66 80 34]]\n",
            "[[58 17  2]\n",
            " [87 75 94]\n",
            " [50 34 12]]\n",
            "[[17  2 52]\n",
            " [75 94 90]\n",
            " [34 12 12]]\n",
            "[[ 2 52  2]\n",
            " [94 90 82]\n",
            " [12 12 78]]\n",
            "[[52  2 28]\n",
            " [90 82 68]\n",
            " [12 78 56]]\n",
            "[[ 2 28 34]\n",
            " [82 68  2]\n",
            " [78 56 37]]\n",
            "[[28 34 33]\n",
            " [68  2 66]\n",
            " [56 37 87]]\n",
            "[[34 33 32]\n",
            " [ 2 66 80]\n",
            " [37 87 82]]\n",
            "[[33 32 67]\n",
            " [66 80 34]\n",
            " [87 82 74]]\n"
          ]
        }
      ]
    },
    {
      "cell_type": "markdown",
      "metadata": {
        "id": "UtGDDH9Qq_2M"
      },
      "source": [
        "#<u>**Problem 4**</u>\n",
        "\n",
        "### Write a function which finds the nearest value from a given value in an array of random N elements. Suppose you created an 1-D array with 15 elements taking values between 10 and 500. Your function would take any input from these values and return the nearest value. (You can use np.abs() function)"
      ]
    },
    {
      "cell_type": "code",
      "metadata": {
        "id": "oknMAmKWFNSX",
        "outputId": "9a7e5fbd-f18c-4d8a-8894-8682735e6c7d",
        "colab": {
          "base_uri": "https://localhost:8080/"
        }
      },
      "source": [
        "# Your function below\n",
        "\n",
        "def find_nearest_value(arr, val):\n",
        "    idx = (np.abs(arr - val)).argmin()\n",
        "    return arr[idx]\n",
        "\n",
        "val = 100\n",
        "arr = np.random.randint(10, 500, size=15)\n",
        "print(arr)\n",
        "nearest_val = find_nearest_value(arr, val)\n",
        "print(f\"Nearest value to {val}: {nearest_val}\")"
      ],
      "execution_count": 16,
      "outputs": [
        {
          "output_type": "stream",
          "name": "stdout",
          "text": [
            "[247 291 130 429  20 339  78  38 154  44  51  10 194 168 472]\n",
            "Nearest value to 100: 78\n"
          ]
        }
      ]
    },
    {
      "cell_type": "code",
      "source": [],
      "metadata": {
        "id": "TYxWldgPg5Ve"
      },
      "execution_count": null,
      "outputs": []
    }
  ]
}